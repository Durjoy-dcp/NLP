{
 "cells": [
  {
   "cell_type": "markdown",
   "metadata": {},
   "source": [
    "## (1) Regex in customer support\n"
   ]
  },
  {
   "cell_type": "markdown",
   "metadata": {},
   "source": [
    "### Retrieve order number\n"
   ]
  },
  {
   "cell_type": "code",
   "execution_count": 4,
   "metadata": {},
   "outputs": [
    {
     "name": "stderr",
     "output_type": "stream",
     "text": [
      "<>:5: SyntaxWarning: invalid escape sequence '\\d'\n",
      "<>:5: SyntaxWarning: invalid escape sequence '\\d'\n",
      "/tmp/ipykernel_32067/2934679577.py:5: SyntaxWarning: invalid escape sequence '\\d'\n",
      "  pattern =\"order[^\\d]*(\\d*)\"\n"
     ]
    },
    {
     "data": {
      "text/plain": [
       "['412889912', '412889912', '412889912']"
      ]
     },
     "execution_count": 4,
     "metadata": {},
     "output_type": "execute_result"
    }
   ],
   "source": [
    "import re\n",
    "chat1 = '''codebasics: Hello, I am having an issue with my order # 412889912 \n",
    "            codebasics: I have a problem with my order number 412889912\n",
    "            codebasics: My order 412889912 is having an issue, I was charged 300$ when online it says 280$'''\n",
    "pattern = \"order[^\\d]*(\\d*)\"\n",
    "\n",
    "matches = re.findall(pattern, chat1)\n",
    "matches"
   ]
  },
  {
   "cell_type": "code",
   "execution_count": 6,
   "metadata": {},
   "outputs": [],
   "source": [
    "# create a function to match\n",
    "\n",
    "def pattern_match(pattern, text):\n",
    "    output = re.findall(pattern, text)\n",
    "    return output"
   ]
  },
  {
   "cell_type": "markdown",
   "metadata": {},
   "source": [
    "### Retrieve email id and phone\n"
   ]
  },
  {
   "cell_type": "code",
   "execution_count": 8,
   "metadata": {},
   "outputs": [],
   "source": [
    "chat1 = '''codebasics: you ask lot of questions 😠  1235678912, abc@xyz.com\n",
    "            codebasics: here it is: (123)-567-8912, abc@xyz.com\n",
    "            codebasics: yes, phone: 1235678912 email: abc@xyz.com'''"
   ]
  },
  {
   "cell_type": "markdown",
   "metadata": {},
   "source": [
    "#### -----Email id-----\n"
   ]
  },
  {
   "cell_type": "code",
   "execution_count": 15,
   "metadata": {},
   "outputs": [
    {
     "name": "stderr",
     "output_type": "stream",
     "text": [
      "<>:1: SyntaxWarning: invalid escape sequence '\\.'\n",
      "<>:1: SyntaxWarning: invalid escape sequence '\\.'\n",
      "/tmp/ipykernel_32067/1777299997.py:1: SyntaxWarning: invalid escape sequence '\\.'\n",
      "  pattern =\"[^@ \\t\\r\\n]+@[^@ \\t\\r\\n]+\\.[^@ \\t\\r\\n]+\" # pattern got from https://ihateregex.io/expr/email\n"
     ]
    },
    {
     "data": {
      "text/plain": [
       "['abc@xyz.com', 'abc@xyz.com', 'abc@xyz.com']"
      ]
     },
     "execution_count": 15,
     "metadata": {},
     "output_type": "execute_result"
    }
   ],
   "source": [
    "# pattern got from https://ihateregex.io/expr/email\n",
    "pattern = \"[^@ \\t\\r\\n]+@[^@ \\t\\r\\n]+\\.[^@ \\t\\r\\n]+\"\n",
    "pattern_match(pattern, chat1)"
   ]
  },
  {
   "cell_type": "markdown",
   "metadata": {},
   "source": [
    "#### -----Phone number-----\n"
   ]
  },
  {
   "cell_type": "code",
   "execution_count": 20,
   "metadata": {},
   "outputs": [
    {
     "name": "stderr",
     "output_type": "stream",
     "text": [
      "<>:1: SyntaxWarning: invalid escape sequence '\\d'\n",
      "<>:1: SyntaxWarning: invalid escape sequence '\\d'\n",
      "/tmp/ipykernel_32067/2717530776.py:1: SyntaxWarning: invalid escape sequence '\\d'\n",
      "  pattern =\"(\\d{10}|\\(\\d{3}\\)-\\d{3}-\\d{4})\"\n"
     ]
    },
    {
     "data": {
      "text/plain": [
       "['1235678912', '(123)-567-8912', '1235678912']"
      ]
     },
     "execution_count": 20,
     "metadata": {},
     "output_type": "execute_result"
    }
   ],
   "source": [
    "pattern = \"(\\d{10}|\\(\\d{3}\\)-\\d{3}-\\d{4})\"\n",
    "pattern_match(pattern, chat1)"
   ]
  },
  {
   "cell_type": "code",
   "execution_count": null,
   "metadata": {},
   "outputs": [],
   "source": []
  }
 ],
 "metadata": {
  "kernelspec": {
   "display_name": "Python 3",
   "language": "python",
   "name": "python3"
  },
  "language_info": {
   "codemirror_mode": {
    "name": "ipython",
    "version": 3
   },
   "file_extension": ".py",
   "mimetype": "text/x-python",
   "name": "python",
   "nbconvert_exporter": "python",
   "pygments_lexer": "ipython3",
   "version": "3.12.2"
  }
 },
 "nbformat": 4,
 "nbformat_minor": 2
}
